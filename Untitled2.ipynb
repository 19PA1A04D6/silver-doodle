{
  "nbformat": 4,
  "nbformat_minor": 0,
  "metadata": {
    "colab": {
      "name": "Untitled2.ipynb",
      "provenance": [],
      "toc_visible": true,
      "authorship_tag": "ABX9TyN/54BVIkhGkKjvjujmabU6",
      "include_colab_link": true
    },
    "kernelspec": {
      "name": "python3",
      "display_name": "Python 3"
    }
  },
  "cells": [
    {
      "cell_type": "markdown",
      "metadata": {
        "id": "view-in-github",
        "colab_type": "text"
      },
      "source": [
        "<a href=\"https://colab.research.google.com/github/vardhanpothula/silver-doodle/blob/master/Untitled2.ipynb\" target=\"_parent\"><img src=\"https://colab.research.google.com/assets/colab-badge.svg\" alt=\"Open In Colab\"/></a>"
      ]
    },
    {
      "cell_type": "code",
      "metadata": {
        "id": "q26CnDXeaZMH",
        "colab_type": "code",
        "outputId": "ad96c3e5-f27f-4506-bb90-866762a18667",
        "colab": {
          "base_uri": "https://localhost:8080/",
          "height": 158
        }
      },
      "source": [
        "    import pandas as pd\n",
        "df=pd.read_csv(\"/content/sample_data/california_housing_test.csv\")\n",
        "print(df.head())\n"
      ],
      "execution_count": 0,
      "outputs": [
        {
          "output_type": "stream",
          "text": [
            "   longitude  latitude  ...  median_income  median_house_value\n",
            "0    -122.05     37.37  ...         6.6085            344700.0\n",
            "1    -118.30     34.26  ...         3.5990            176500.0\n",
            "2    -117.81     33.78  ...         5.7934            270500.0\n",
            "3    -118.36     33.82  ...         6.1359            330000.0\n",
            "4    -119.67     36.33  ...         2.9375             81700.0\n",
            "\n",
            "[5 rows x 9 columns]\n"
          ],
          "name": "stdout"
        }
      ]
    },
    {
      "cell_type": "code",
      "metadata": {
        "id": "iKlGAKnhZpOC",
        "colab_type": "code",
        "outputId": "b952f091-39c5-458c-9c13-12342a622714",
        "colab": {
          "base_uri": "https://localhost:8080/",
          "height": 265
        }
      },
      "source": [
        "import pandas as pd\n",
        "df=pd.read_csv(\"/content/sample_data/california_housing_test.csv\")\n",
        "print(df)"
      ],
      "execution_count": 0,
      "outputs": [
        {
          "output_type": "stream",
          "text": [
            "      longitude  latitude  ...  median_income  median_house_value\n",
            "0       -122.05     37.37  ...         6.6085            344700.0\n",
            "1       -118.30     34.26  ...         3.5990            176500.0\n",
            "2       -117.81     33.78  ...         5.7934            270500.0\n",
            "3       -118.36     33.82  ...         6.1359            330000.0\n",
            "4       -119.67     36.33  ...         2.9375             81700.0\n",
            "...         ...       ...  ...            ...                 ...\n",
            "2995    -119.86     34.42  ...         1.1790            225000.0\n",
            "2996    -118.14     34.06  ...         3.3906            237200.0\n",
            "2997    -119.70     36.30  ...         2.2895             62000.0\n",
            "2998    -117.12     34.10  ...         3.2708            162500.0\n",
            "2999    -119.63     34.42  ...         8.5608            500001.0\n",
            "\n",
            "[3000 rows x 9 columns]\n"
          ],
          "name": "stdout"
        }
      ]
    },
    {
      "cell_type": "code",
      "metadata": {
        "id": "ycR0FjNLbLYx",
        "colab_type": "code",
        "outputId": "6efec47f-63b8-437d-b3e6-0381ac4dd8eb",
        "colab": {
          "base_uri": "https://localhost:8080/",
          "height": 194
        }
      },
      "source": [
        "import pandas as pd\n",
        "df=pd.read_csv(\"/content/sample_data/california_housing_test.csv\")\n",
        "print(df.loc[0])"
      ],
      "execution_count": 0,
      "outputs": [
        {
          "output_type": "stream",
          "text": [
            "longitude               -122.0500\n",
            "latitude                  37.3700\n",
            "housing_median_age        27.0000\n",
            "total_rooms             3885.0000\n",
            "total_bedrooms           661.0000\n",
            "population              1537.0000\n",
            "households               606.0000\n",
            "median_income              6.6085\n",
            "median_house_value    344700.0000\n",
            "Name: 0, dtype: float64\n"
          ],
          "name": "stdout"
        }
      ]
    },
    {
      "cell_type": "code",
      "metadata": {
        "id": "wTMs_SS_bhRh",
        "colab_type": "code",
        "outputId": "f6378d9d-2483-4961-a704-3a50c7047e5e",
        "colab": {
          "base_uri": "https://localhost:8080/",
          "height": 194
        }
      },
      "source": [
        "print(df.loc[99])"
      ],
      "execution_count": 0,
      "outputs": [
        {
          "output_type": "stream",
          "text": [
            "longitude               -118.2000\n",
            "latitude                  33.7700\n",
            "housing_median_age        52.0000\n",
            "total_rooms             1375.0000\n",
            "total_bedrooms           457.0000\n",
            "population              1089.0000\n",
            "households               317.0000\n",
            "median_income              2.2344\n",
            "median_house_value    200000.0000\n",
            "Name: 99, dtype: float64\n"
          ],
          "name": "stdout"
        }
      ]
    },
    {
      "cell_type": "code",
      "metadata": {
        "id": "GG6NIMnXcAjN",
        "colab_type": "code",
        "outputId": "a3887c94-6b78-4b39-e724-94cc74575c19",
        "colab": {
          "base_uri": "https://localhost:8080/",
          "height": 87
        }
      },
      "source": [
        "print(df.tail(n=1))"
      ],
      "execution_count": 0,
      "outputs": [
        {
          "output_type": "stream",
          "text": [
            "      longitude  latitude  ...  median_income  median_house_value\n",
            "2999    -119.63     34.42  ...         8.5608            500001.0\n",
            "\n",
            "[1 rows x 9 columns]\n"
          ],
          "name": "stdout"
        }
      ]
    },
    {
      "cell_type": "code",
      "metadata": {
        "id": "t5F65Wp2dBXd",
        "colab_type": "code",
        "outputId": "313bf0f1-d7e8-45ca-ac81-41f751dfbe29",
        "colab": {
          "base_uri": "https://localhost:8080/",
          "height": 194
        }
      },
      "source": [
        "print(df.iloc[99])"
      ],
      "execution_count": 0,
      "outputs": [
        {
          "output_type": "stream",
          "text": [
            "longitude               -118.2000\n",
            "latitude                  33.7700\n",
            "housing_median_age        52.0000\n",
            "total_rooms             1375.0000\n",
            "total_bedrooms           457.0000\n",
            "population              1089.0000\n",
            "households               317.0000\n",
            "median_income              2.2344\n",
            "median_house_value    200000.0000\n",
            "Name: 99, dtype: float64\n"
          ],
          "name": "stdout"
        }
      ]
    },
    {
      "cell_type": "code",
      "metadata": {
        "id": "hjdw47-QdWKd",
        "colab_type": "code",
        "outputId": "2df2e10e-c8b1-461d-8fb3-7338e501b42c",
        "colab": {
          "base_uri": "https://localhost:8080/",
          "height": 194
        }
      },
      "source": [
        "print(df.iloc[-1])"
      ],
      "execution_count": 0,
      "outputs": [
        {
          "output_type": "stream",
          "text": [
            "longitude               -119.6300\n",
            "latitude                  34.4200\n",
            "housing_median_age        42.0000\n",
            "total_rooms             1765.0000\n",
            "total_bedrooms           263.0000\n",
            "population               753.0000\n",
            "households               260.0000\n",
            "median_income              8.5608\n",
            "median_house_value    500001.0000\n",
            "Name: 2999, dtype: float64\n"
          ],
          "name": "stdout"
        }
      ]
    },
    {
      "cell_type": "code",
      "metadata": {
        "id": "BctZi4PhdoeM",
        "colab_type": "code",
        "outputId": "7a0a2c64-acc2-4569-947d-01e7ed688883",
        "colab": {
          "base_uri": "https://localhost:8080/",
          "height": 123
        }
      },
      "source": [
        "subset=df.loc[:, ['total_rooms','total_bedrooms']]\n",
        "print(subset.head())"
      ],
      "execution_count": 0,
      "outputs": [
        {
          "output_type": "stream",
          "text": [
            "   total_rooms  total_bedrooms\n",
            "0       3885.0           661.0\n",
            "1       1510.0           310.0\n",
            "2       3589.0           507.0\n",
            "3         67.0            15.0\n",
            "4       1241.0           244.0\n"
          ],
          "name": "stdout"
        }
      ]
    },
    {
      "cell_type": "markdown",
      "metadata": {
        "id": "bGuI3A5-f33a",
        "colab_type": "text"
      },
      "source": [
        "# New Section"
      ]
    },
    {
      "cell_type": "code",
      "metadata": {
        "id": "9ByfuZficdvI",
        "colab_type": "code",
        "outputId": "69a56c82-c6df-45e2-abc2-cd3114a16bc8",
        "colab": {
          "base_uri": "https://localhost:8080/",
          "height": 123
        }
      },
      "source": [
        "print(df.loc[[0,99,999]])"
      ],
      "execution_count": 0,
      "outputs": [
        {
          "output_type": "stream",
          "text": [
            "     longitude  latitude  ...  median_income  median_house_value\n",
            "0      -122.05     37.37  ...         6.6085            344700.0\n",
            "99     -118.20     33.77  ...         2.2344            200000.0\n",
            "999    -118.30     34.10  ...         1.7083            166700.0\n",
            "\n",
            "[3 rows x 9 columns]\n"
          ],
          "name": "stdout"
        }
      ]
    }
  ]
}